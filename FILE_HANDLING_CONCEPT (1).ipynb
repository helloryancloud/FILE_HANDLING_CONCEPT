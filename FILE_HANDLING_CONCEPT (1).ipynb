{
  "nbformat": 4,
  "nbformat_minor": 0,
  "metadata": {
    "colab": {
      "provenance": []
    },
    "kernelspec": {
      "name": "python3",
      "display_name": "Python 3"
    },
    "language_info": {
      "name": "python"
    }
  },
  "cells": [
    {
      "cell_type": "markdown",
      "source": [
        "# **File Handling**"
      ],
      "metadata": {
        "id": "sU3zrd7dI421"
      }
    },
    {
      "cell_type": "markdown",
      "source": [
        "What is File Handing"
      ],
      "metadata": {
        "id": "E3ipixMHItPD"
      }
    },
    {
      "cell_type": "markdown",
      "source": [
        "File handling in python means working with files - creating, reading, writing, updating, or deleting them using python code"
      ],
      "metadata": {
        "id": "h9jJdE5yJFfK"
      }
    },
    {
      "cell_type": "markdown",
      "source": [
        "**Why File Handling**"
      ],
      "metadata": {
        "id": "EUlbzR6AJQFv"
      }
    },
    {
      "cell_type": "markdown",
      "source": [
        "- Store and access data permanently\n",
        "- read and process external files\n",
        "- Export data to files for other use"
      ],
      "metadata": {
        "id": "PJSPpJeEJWRn"
      }
    },
    {
      "cell_type": "markdown",
      "source": [
        "**basic syntax**"
      ],
      "metadata": {
        "id": "gEhrlQuGJqWa"
      }
    },
    {
      "cell_type": "markdown",
      "source": [
        "- file=open(\"filename.txt,mode) # open the file\n",
        "- some operation\n",
        "- file.close() #close the file"
      ],
      "metadata": {
        "id": "ZHflcZ0JJuiP"
      }
    },
    {
      "cell_type": "markdown",
      "source": [
        "- open()   opens a file\n",
        "- read(), readline(), readlines() Read from file\n",
        "- write(), writelines() writes to file\n",
        "- seek() Moves the file pointer\n",
        "- tell() Returns current position in file\n",
        "- close() close the file"
      ],
      "metadata": {
        "id": "o3cZ415uKR2o"
      }
    },
    {
      "cell_type": "markdown",
      "source": [
        "- text file  (character data)\n",
        "- Binary file (images, video file, audio file)"
      ],
      "metadata": {
        "id": "SKu5Rc29K3qS"
      }
    },
    {
      "cell_type": "markdown",
      "source": [
        "File Path\n",
        "\n",
        "1. Absolute path - while always negines with root folder\n",
        "2. Relative path - which is relative to program current working directory"
      ],
      "metadata": {
        "id": "C8N8mFxfLulB"
      }
    },
    {
      "cell_type": "markdown",
      "source": [
        "- Relative path: data/sales.txt\n",
        "- Absolute path : /User/pw/data/sales.txt"
      ],
      "metadata": {
        "id": "vsZ25FkKMyCv"
      }
    },
    {
      "cell_type": "markdown",
      "source": [
        "Important Commands\n",
        "\n",
        "- pwd\n",
        "- ls\n",
        "- cd"
      ],
      "metadata": {
        "id": "6T4Rt3rwNy7-"
      }
    },
    {
      "cell_type": "code",
      "execution_count": null,
      "metadata": {
        "colab": {
          "base_uri": "https://localhost:8080/",
          "height": 35
        },
        "id": "gmETZA00HQ23",
        "outputId": "024034f6-8320-4675-c308-7d485bf3f011"
      },
      "outputs": [
        {
          "output_type": "execute_result",
          "data": {
            "text/plain": [
              "'/content'"
            ],
            "application/vnd.google.colaboratory.intrinsic+json": {
              "type": "string"
            }
          },
          "metadata": {},
          "execution_count": 1
        }
      ],
      "source": [
        "pwd"
      ]
    },
    {
      "cell_type": "code",
      "source": [
        "ls"
      ],
      "metadata": {
        "colab": {
          "base_uri": "https://localhost:8080/"
        },
        "id": "nnFVN3XLOMsy",
        "outputId": "c9145971-a2ac-4527-96a7-698b8aa90a27"
      },
      "execution_count": null,
      "outputs": [
        {
          "output_type": "stream",
          "name": "stdout",
          "text": [
            "\u001b[0m\u001b[01;34msample_data\u001b[0m/\n"
          ]
        }
      ]
    },
    {
      "cell_type": "code",
      "source": [
        "cd sample_data/"
      ],
      "metadata": {
        "colab": {
          "base_uri": "https://localhost:8080/"
        },
        "id": "_24zgfdkOTfd",
        "outputId": "77e42c6c-1628-4322-adb5-bcb7e47c0f6d"
      },
      "execution_count": null,
      "outputs": [
        {
          "output_type": "stream",
          "name": "stdout",
          "text": [
            "/content/sample_data\n"
          ]
        }
      ]
    },
    {
      "cell_type": "code",
      "source": [
        "ls"
      ],
      "metadata": {
        "colab": {
          "base_uri": "https://localhost:8080/"
        },
        "id": "w9EklARQOZJz",
        "outputId": "86ce49e3-34dc-41ab-dd17-d2f20a69acb3"
      },
      "execution_count": null,
      "outputs": [
        {
          "output_type": "stream",
          "name": "stdout",
          "text": [
            "\u001b[0m\u001b[01;32manscombe.json\u001b[0m*                mnist_test.csv\n",
            "california_housing_test.csv   mnist_train_small.csv\n",
            "california_housing_train.csv  \u001b[01;32mREADME.md\u001b[0m*\n"
          ]
        }
      ]
    },
    {
      "cell_type": "code",
      "source": [
        "pwd"
      ],
      "metadata": {
        "colab": {
          "base_uri": "https://localhost:8080/",
          "height": 35
        },
        "id": "SUdht4w4OgBj",
        "outputId": "f8f780e0-810d-4105-87aa-90d7afb93577"
      },
      "execution_count": null,
      "outputs": [
        {
          "output_type": "execute_result",
          "data": {
            "text/plain": [
              "'/content/sample_data'"
            ],
            "application/vnd.google.colaboratory.intrinsic+json": {
              "type": "string"
            }
          },
          "metadata": {},
          "execution_count": 5
        }
      ]
    },
    {
      "cell_type": "code",
      "source": [
        "cat README.md"
      ],
      "metadata": {
        "colab": {
          "base_uri": "https://localhost:8080/"
        },
        "id": "_nJ46yBHOgjt",
        "outputId": "6e991220-4378-49c0-bb84-7ca207e7384a"
      },
      "execution_count": null,
      "outputs": [
        {
          "output_type": "stream",
          "name": "stdout",
          "text": [
            "This directory includes a few sample datasets to get you started.\n",
            "\n",
            "*   `california_housing_data*.csv` is California housing data from the 1990 US\n",
            "    Census; more information is available at:\n",
            "    https://docs.google.com/document/d/e/2PACX-1vRhYtsvc5eOR2FWNCwaBiKL6suIOrxJig8LcSBbmCbyYsayia_DvPOOBlXZ4CAlQ5nlDD8kTaIDRwrN/pub\n",
            "\n",
            "*   `mnist_*.csv` is a small sample of the\n",
            "    [MNIST database](https://en.wikipedia.org/wiki/MNIST_database), which is\n",
            "    described at: http://yann.lecun.com/exdb/mnist/\n",
            "\n",
            "*   `anscombe.json` contains a copy of\n",
            "    [Anscombe's quartet](https://en.wikipedia.org/wiki/Anscombe%27s_quartet); it\n",
            "    was originally described in\n",
            "\n",
            "    Anscombe, F. J. (1973). 'Graphs in Statistical Analysis'. American\n",
            "    Statistician. 27 (1): 17-21. JSTOR 2682899.\n",
            "\n",
            "    and our copy was prepared by the\n",
            "    [vega_datasets library](https://github.com/altair-viz/vega_datasets/blob/4f67bdaad10f45e3549984e17e1b3088c731503d/vega_datasets/_data/anscombe.json).\n"
          ]
        }
      ]
    },
    {
      "cell_type": "code",
      "source": [
        "pwd"
      ],
      "metadata": {
        "colab": {
          "base_uri": "https://localhost:8080/",
          "height": 35
        },
        "id": "ld79dFfdPbbP",
        "outputId": "463bd4d2-17bd-414f-8812-46868cbe8478"
      },
      "execution_count": null,
      "outputs": [
        {
          "output_type": "execute_result",
          "data": {
            "text/plain": [
              "'/content/sample_data'"
            ],
            "application/vnd.google.colaboratory.intrinsic+json": {
              "type": "string"
            }
          },
          "metadata": {},
          "execution_count": 7
        }
      ]
    },
    {
      "cell_type": "code",
      "source": [
        "cd .."
      ],
      "metadata": {
        "colab": {
          "base_uri": "https://localhost:8080/"
        },
        "id": "EEZ4aQhLPcZ8",
        "outputId": "d4dfa579-5a68-4202-a2ca-9f63d6b43435"
      },
      "execution_count": null,
      "outputs": [
        {
          "output_type": "stream",
          "name": "stdout",
          "text": [
            "/content\n"
          ]
        }
      ]
    },
    {
      "cell_type": "code",
      "source": [
        "pwd"
      ],
      "metadata": {
        "colab": {
          "base_uri": "https://localhost:8080/",
          "height": 35
        },
        "id": "OX2gzOoFPdny",
        "outputId": "688c414e-2a23-4eca-921e-cff922a9640c"
      },
      "execution_count": null,
      "outputs": [
        {
          "output_type": "execute_result",
          "data": {
            "text/plain": [
              "'/content'"
            ],
            "application/vnd.google.colaboratory.intrinsic+json": {
              "type": "string"
            }
          },
          "metadata": {},
          "execution_count": 9
        }
      ]
    },
    {
      "cell_type": "markdown",
      "source": [
        "**Example 1**"
      ],
      "metadata": {
        "id": "tJ-_6WtPPk68"
      }
    },
    {
      "cell_type": "code",
      "source": [
        "f=open(\"file.txt\",\"w\")\n",
        "f.write(\"hello wolrd\")\n",
        "f.close()"
      ],
      "metadata": {
        "id": "spwfDKOjPhg1"
      },
      "execution_count": null,
      "outputs": []
    },
    {
      "cell_type": "code",
      "source": [
        "f=open(\"file2.txt\",\"w\")\n",
        "f.write(\"hello wolrd\")\n",
        "f.close()"
      ],
      "metadata": {
        "id": "pJIFLkb1QDtv"
      },
      "execution_count": null,
      "outputs": []
    },
    {
      "cell_type": "markdown",
      "source": [
        "**example 2**"
      ],
      "metadata": {
        "id": "5sipB1xPQk0U"
      }
    },
    {
      "cell_type": "code",
      "source": [
        "import os"
      ],
      "metadata": {
        "id": "yV8Wb_3TRUm-"
      },
      "execution_count": null,
      "outputs": []
    },
    {
      "cell_type": "code",
      "source": [
        "os.getcwd()"
      ],
      "metadata": {
        "colab": {
          "base_uri": "https://localhost:8080/",
          "height": 35
        },
        "id": "heZNHaioRVkg",
        "outputId": "3f61f44b-3cb4-481d-c484-595c5d750d46"
      },
      "execution_count": null,
      "outputs": [
        {
          "output_type": "execute_result",
          "data": {
            "text/plain": [
              "'/content'"
            ],
            "application/vnd.google.colaboratory.intrinsic+json": {
              "type": "string"
            }
          },
          "metadata": {},
          "execution_count": 17
        }
      ]
    },
    {
      "cell_type": "code",
      "source": [
        "with open(\"sample_text.txt\",\"w\") as f:\n",
        "  f.write(\"hello wolrd upadted\")\n",
        "\n",
        "# Automatically closes teh file when the block ends\n",
        "# cleaner and safer"
      ],
      "metadata": {
        "id": "kRufRnB7QnLw"
      },
      "execution_count": null,
      "outputs": []
    },
    {
      "cell_type": "markdown",
      "source": [
        "**w - write Mode**\n",
        "\n",
        "- Creates file and writes text\n",
        "- if file exits it clears existing content"
      ],
      "metadata": {
        "id": "kBGdGkcWR51g"
      }
    },
    {
      "cell_type": "markdown",
      "source": [
        "**x - Exclusive creation Mode**"
      ],
      "metadata": {
        "id": "kkT4FXuHSC4P"
      }
    },
    {
      "cell_type": "code",
      "source": [
        "with open(\"sample_text_w.txt\",\"x\") as f:\n",
        "  f.write(\"hello wolrd upadted in x mode\")"
      ],
      "metadata": {
        "colab": {
          "base_uri": "https://localhost:8080/",
          "height": 160
        },
        "id": "KYnhyEL9ScM7",
        "outputId": "0b372f62-45e9-4175-8c02-7219a99b89bc"
      },
      "execution_count": null,
      "outputs": [
        {
          "output_type": "error",
          "ename": "FileExistsError",
          "evalue": "[Errno 17] File exists: 'sample_text_w.txt'",
          "traceback": [
            "\u001b[0;31m---------------------------------------------------------------------------\u001b[0m",
            "\u001b[0;31mFileExistsError\u001b[0m                           Traceback (most recent call last)",
            "\u001b[0;32m/tmp/ipython-input-1725691611.py\u001b[0m in \u001b[0;36m<cell line: 0>\u001b[0;34m()\u001b[0m\n\u001b[0;32m----> 1\u001b[0;31m \u001b[0;32mwith\u001b[0m \u001b[0mopen\u001b[0m\u001b[0;34m(\u001b[0m\u001b[0;34m\"sample_text_w.txt\"\u001b[0m\u001b[0;34m,\u001b[0m\u001b[0;34m\"x\"\u001b[0m\u001b[0;34m)\u001b[0m \u001b[0;32mas\u001b[0m \u001b[0mf\u001b[0m\u001b[0;34m:\u001b[0m\u001b[0;34m\u001b[0m\u001b[0;34m\u001b[0m\u001b[0m\n\u001b[0m\u001b[1;32m      2\u001b[0m   \u001b[0mf\u001b[0m\u001b[0;34m.\u001b[0m\u001b[0mwrite\u001b[0m\u001b[0;34m(\u001b[0m\u001b[0;34m\"hello wolrd upadted in x mode\"\u001b[0m\u001b[0;34m)\u001b[0m\u001b[0;34m\u001b[0m\u001b[0;34m\u001b[0m\u001b[0m\n",
            "\u001b[0;31mFileExistsError\u001b[0m: [Errno 17] File exists: 'sample_text_w.txt'"
          ]
        }
      ]
    },
    {
      "cell_type": "markdown",
      "source": [
        "- works if the file does not exits\n",
        "- raise error if file already exits"
      ],
      "metadata": {
        "id": "xKh37tWNS4sF"
      }
    },
    {
      "cell_type": "markdown",
      "source": [
        "**a - Append mode**"
      ],
      "metadata": {
        "id": "sAUQBm3OTADX"
      }
    },
    {
      "cell_type": "code",
      "source": [
        "with open(\"sample_text_append.txt\",\"a\") as f:\n",
        "  f.write(\"hello world execute 2nd time\")"
      ],
      "metadata": {
        "id": "kdqTzr9fTFmj"
      },
      "execution_count": null,
      "outputs": []
    },
    {
      "cell_type": "markdown",
      "source": [
        "**b - Binary Mode**"
      ],
      "metadata": {
        "id": "d9-CSCtvThAG"
      }
    },
    {
      "cell_type": "markdown",
      "source": [
        "Reads or write binary data(images,file)"
      ],
      "metadata": {
        "id": "2AZw2DbHTjmd"
      }
    },
    {
      "cell_type": "code",
      "source": [
        "with open(\"sample_text_binary.txt\",\"wb\") as f:\n",
        "  f.write(b'\\x00\\x02')"
      ],
      "metadata": {
        "id": "ikd8SPxhTo0y"
      },
      "execution_count": null,
      "outputs": []
    },
    {
      "cell_type": "markdown",
      "source": [
        "**r - Read**"
      ],
      "metadata": {
        "id": "qrhz_E8FT9aO"
      }
    },
    {
      "cell_type": "code",
      "source": [
        "with open(\"sample_text.txt\",\"r\") as f:\n",
        "  print(f.read())"
      ],
      "metadata": {
        "colab": {
          "base_uri": "https://localhost:8080/"
        },
        "id": "790EUiosUCfv",
        "outputId": "07287460-e49d-47f5-809e-89f67b933f91"
      },
      "execution_count": null,
      "outputs": [
        {
          "output_type": "stream",
          "name": "stdout",
          "text": [
            "hello wolrd upadted\n"
          ]
        }
      ]
    },
    {
      "cell_type": "markdown",
      "source": [
        "**r+ Read and write mode**"
      ],
      "metadata": {
        "id": "6vkXhMIhUNwn"
      }
    },
    {
      "cell_type": "markdown",
      "source": [
        "file must be present"
      ],
      "metadata": {
        "id": "3RRJobe5VAXq"
      }
    },
    {
      "cell_type": "code",
      "source": [
        "with open(\"sample_text.txt\",\"r+\") as f:\n",
        "  print(f.read())\n",
        "  f.seek(0)\n",
        "  f.write(\"********************\")"
      ],
      "metadata": {
        "colab": {
          "base_uri": "https://localhost:8080/"
        },
        "id": "9JpJ12hmUSjI",
        "outputId": "0744faf1-e5b7-4c34-c570-c2e049d61615"
      },
      "execution_count": null,
      "outputs": [
        {
          "output_type": "stream",
          "name": "stdout",
          "text": [
            "upadtedolrd upadtedupadted\n"
          ]
        }
      ]
    },
    {
      "cell_type": "markdown",
      "source": [
        "**w+ - write and read**"
      ],
      "metadata": {
        "id": "zfih-d-gVDie"
      }
    },
    {
      "cell_type": "markdown",
      "source": [
        "create a file or overwrite existing aloowing reading too"
      ],
      "metadata": {
        "id": "G4p_P4IwVIRM"
      }
    },
    {
      "cell_type": "code",
      "source": [
        "with open(\"sample_text_wplus.txt\",\"w+\") as f:\n",
        "  f.write(\"********************\")\n",
        "  f.seek(0)\n",
        "  print(f.read())\n"
      ],
      "metadata": {
        "colab": {
          "base_uri": "https://localhost:8080/"
        },
        "id": "r1fOIv3aVSOX",
        "outputId": "c935a38f-2d77-4353-c52e-d4d0471f890f"
      },
      "execution_count": null,
      "outputs": [
        {
          "output_type": "stream",
          "name": "stdout",
          "text": [
            "********************\n"
          ]
        }
      ]
    },
    {
      "cell_type": "markdown",
      "source": [
        "a+ - append and read"
      ],
      "metadata": {
        "id": "Av6VfUGxV7Lr"
      }
    },
    {
      "cell_type": "markdown",
      "source": [
        "append new conent allows reading too"
      ],
      "metadata": {
        "id": "st6tn-UDV-Xf"
      }
    },
    {
      "cell_type": "code",
      "source": [
        "with open(\"sample_text_append.txt\",\"a+\") as f:\n",
        "  f.write(\"new line added with append mode\")\n",
        "  f.seek(0)\n",
        "  print(f.read())"
      ],
      "metadata": {
        "id": "o5sTd_qoWDcR"
      },
      "execution_count": null,
      "outputs": []
    },
    {
      "cell_type": "markdown",
      "source": [
        "**file read methods**"
      ],
      "metadata": {
        "id": "MH9lf-stWMiz"
      }
    },
    {
      "cell_type": "markdown",
      "source": [
        "- read() - Return the entire file content\n",
        "- readline() - read a single line from a file at a time\n",
        "- readlines() - returns a list of lines from a file"
      ],
      "metadata": {
        "id": "NDc6xRvyWWYl"
      }
    },
    {
      "cell_type": "code",
      "source": [
        "with open(\"demo.txt\",\"w\") as f:\n",
        "  f. write(\"Line 1\\nLine 2\\nLine 3\\nLine 4\")"
      ],
      "metadata": {
        "id": "tZ9XzGC4W6zZ"
      },
      "execution_count": null,
      "outputs": []
    },
    {
      "cell_type": "markdown",
      "source": [
        "read"
      ],
      "metadata": {
        "id": "Hf9aUKy0XQWC"
      }
    },
    {
      "cell_type": "code",
      "source": [
        "with open(\"demo.txt\",\"r\") as f:\n",
        "  content=f.read()\n",
        "  print(content)"
      ],
      "metadata": {
        "colab": {
          "base_uri": "https://localhost:8080/"
        },
        "id": "C2s54ehhXRRi",
        "outputId": "005aef1c-e422-470f-9b77-2d04d0879869"
      },
      "execution_count": null,
      "outputs": [
        {
          "output_type": "stream",
          "name": "stdout",
          "text": [
            "Line 1\n",
            "Line 2\n",
            "Line 3\n",
            "Line 4\n"
          ]
        }
      ]
    },
    {
      "cell_type": "markdown",
      "source": [
        "readline"
      ],
      "metadata": {
        "id": "gZc4wn_DXnY4"
      }
    },
    {
      "cell_type": "code",
      "source": [
        "with open(\"demo.txt\",\"r\") as f:\n",
        "  line1=f.readline()\n",
        "  print(line1)\n",
        "  line2=f.readline()\n",
        "  print(line2)"
      ],
      "metadata": {
        "colab": {
          "base_uri": "https://localhost:8080/"
        },
        "id": "VpMchIl2Xosf",
        "outputId": "2dff9278-bbd0-4856-c250-87094a382fb7"
      },
      "execution_count": null,
      "outputs": [
        {
          "output_type": "stream",
          "name": "stdout",
          "text": [
            "Line 1\n",
            "\n",
            "Line 2\n",
            "\n"
          ]
        }
      ]
    },
    {
      "cell_type": "markdown",
      "source": [
        "readlines"
      ],
      "metadata": {
        "id": "NGxWLhacX8XB"
      }
    },
    {
      "cell_type": "code",
      "source": [
        "with open(\"demo.txt\",\"r\") as f:\n",
        "  lines=f.readlines()\n",
        "  print(lines)"
      ],
      "metadata": {
        "colab": {
          "base_uri": "https://localhost:8080/"
        },
        "id": "1Br6A_05X-Dn",
        "outputId": "2dbe509c-7798-4b73-92ab-d737bd181280"
      },
      "execution_count": null,
      "outputs": [
        {
          "output_type": "stream",
          "name": "stdout",
          "text": [
            "['Line 1\\n', 'Line 2\\n', 'Line 3\\n', 'Line 4']\n"
          ]
        }
      ]
    },
    {
      "cell_type": "markdown",
      "source": [
        "**file write Methods**"
      ],
      "metadata": {
        "id": "Y0PloVpWYM6E"
      }
    },
    {
      "cell_type": "markdown",
      "source": [
        "1. write() - use to write a strinf into a file (always string data has to be passed)\n",
        "2. writelines() - list of strings into file, it accepts both string and list data"
      ],
      "metadata": {
        "id": "f2pTD-hlYQ13"
      }
    },
    {
      "cell_type": "markdown",
      "source": [
        "write"
      ],
      "metadata": {
        "id": "C_3j5wu8Ynkd"
      }
    },
    {
      "cell_type": "code",
      "source": [
        "with open(\"write_example.txt\",\"w\") as f:\n",
        "  f. write(\"hello this is written using write()\")"
      ],
      "metadata": {
        "id": "rdMkXOLQYnLS"
      },
      "execution_count": null,
      "outputs": []
    },
    {
      "cell_type": "markdown",
      "source": [
        "writelines"
      ],
      "metadata": {
        "id": "KpR5NbzYY0In"
      }
    },
    {
      "cell_type": "code",
      "source": [
        "lines = [\"Line 1\\n\",\"Line 2\\n\",\"Line 3\\n\"]\n",
        "with open(\"writelines_example.txt\",\"w\") as f:\n",
        "  f. writelines(lines)\n"
      ],
      "metadata": {
        "id": "nC8VsGdGY2xT"
      },
      "execution_count": null,
      "outputs": []
    },
    {
      "cell_type": "markdown",
      "source": [
        "**tell()**"
      ],
      "metadata": {
        "id": "PGmHrN7QZQHe"
      }
    },
    {
      "cell_type": "markdown",
      "source": [
        "this method retunrs the current posoition of file pointer in number of bytes from the begining of the file"
      ],
      "metadata": {
        "id": "pT9z0cTvZUoB"
      }
    },
    {
      "cell_type": "code",
      "source": [
        "with open(\"example_tell.txt\",\"w\") as f:\n",
        "  f. write(\"hello world\")\n",
        "  position = f.tell()\n",
        "  print(position)"
      ],
      "metadata": {
        "colab": {
          "base_uri": "https://localhost:8080/"
        },
        "id": "tHLcLc5eZR0k",
        "outputId": "7f82350e-ee03-4035-b0d0-2695f87321ed"
      },
      "execution_count": null,
      "outputs": [
        {
          "output_type": "stream",
          "name": "stdout",
          "text": [
            "11\n"
          ]
        }
      ]
    },
    {
      "cell_type": "code",
      "source": [
        "mkdir data"
      ],
      "metadata": {
        "id": "6dvB_zjgfbiO"
      },
      "execution_count": null,
      "outputs": []
    },
    {
      "cell_type": "markdown",
      "source": [
        "/content/data"
      ],
      "metadata": {
        "id": "-MpeWEw-fhXj"
      }
    },
    {
      "cell_type": "markdown",
      "source": [
        "# **Exception Handling**"
      ],
      "metadata": {
        "id": "7qkjdUfofTOu"
      }
    },
    {
      "cell_type": "markdown",
      "source": [
        "- An exception is an event that occurs during the executing of programs that disrupt teh normal flow of exception\n",
        "\n",
        "- An exceptiom is a runtime error that can be caught and handelled to prevent your program from stopping unexpectedly\n",
        "\n"
      ],
      "metadata": {
        "id": "LcGGGHG-gXQU"
      }
    },
    {
      "cell_type": "code",
      "source": [
        "a=10\n",
        "print(a)\n",
        "try:\n",
        "  b=10/0\n",
        "except:\n",
        "  print(\"error\")\n",
        "print(\"hello\")"
      ],
      "metadata": {
        "colab": {
          "base_uri": "https://localhost:8080/"
        },
        "id": "Nv4U4vRJfWys",
        "outputId": "4b655beb-c0a8-43c0-a838-44407d66b333"
      },
      "execution_count": null,
      "outputs": [
        {
          "output_type": "stream",
          "name": "stdout",
          "text": [
            "10\n",
            "error\n",
            "hello\n"
          ]
        }
      ]
    },
    {
      "cell_type": "code",
      "source": [
        "a=10\n",
        "print(a)\n",
        "b=10/0\n",
        "print(\"error\")\n",
        "print(\"hello\")"
      ],
      "metadata": {
        "colab": {
          "base_uri": "https://localhost:8080/",
          "height": 231
        },
        "id": "5Omx0nskgQN6",
        "outputId": "248b7c12-ac19-4340-d99e-211da3ebc4ec"
      },
      "execution_count": null,
      "outputs": [
        {
          "output_type": "stream",
          "name": "stdout",
          "text": [
            "10\n"
          ]
        },
        {
          "output_type": "error",
          "ename": "ZeroDivisionError",
          "evalue": "division by zero",
          "traceback": [
            "\u001b[0;31m---------------------------------------------------------------------------\u001b[0m",
            "\u001b[0;31mZeroDivisionError\u001b[0m                         Traceback (most recent call last)",
            "\u001b[0;32m/tmp/ipython-input-2564163681.py\u001b[0m in \u001b[0;36m<cell line: 0>\u001b[0;34m()\u001b[0m\n\u001b[1;32m      1\u001b[0m \u001b[0ma\u001b[0m\u001b[0;34m=\u001b[0m\u001b[0;36m10\u001b[0m\u001b[0;34m\u001b[0m\u001b[0;34m\u001b[0m\u001b[0m\n\u001b[1;32m      2\u001b[0m \u001b[0mprint\u001b[0m\u001b[0;34m(\u001b[0m\u001b[0ma\u001b[0m\u001b[0;34m)\u001b[0m\u001b[0;34m\u001b[0m\u001b[0;34m\u001b[0m\u001b[0m\n\u001b[0;32m----> 3\u001b[0;31m \u001b[0mb\u001b[0m\u001b[0;34m=\u001b[0m\u001b[0;36m10\u001b[0m\u001b[0;34m/\u001b[0m\u001b[0;36m0\u001b[0m\u001b[0;34m\u001b[0m\u001b[0;34m\u001b[0m\u001b[0m\n\u001b[0m\u001b[1;32m      4\u001b[0m \u001b[0mprint\u001b[0m\u001b[0;34m(\u001b[0m\u001b[0;34m\"error\"\u001b[0m\u001b[0;34m)\u001b[0m\u001b[0;34m\u001b[0m\u001b[0;34m\u001b[0m\u001b[0m\n\u001b[1;32m      5\u001b[0m \u001b[0mprint\u001b[0m\u001b[0;34m(\u001b[0m\u001b[0;34m\"hello\"\u001b[0m\u001b[0;34m)\u001b[0m\u001b[0;34m\u001b[0m\u001b[0;34m\u001b[0m\u001b[0m\n",
            "\u001b[0;31mZeroDivisionError\u001b[0m: division by zero"
          ]
        }
      ]
    },
    {
      "cell_type": "markdown",
      "source": [
        "1. zeroDisvionError\n",
        "2. FileNotFoundError\n",
        "3. TypeError (invalid operation between types)\n",
        "4. ValueError (wrong value)\n",
        "5. IndexError\n",
        "6. KeyError"
      ],
      "metadata": {
        "id": "S_4nzmfOg11l"
      }
    },
    {
      "cell_type": "markdown",
      "source": [
        "**Error**"
      ],
      "metadata": {
        "id": "qejSkBqHhlw9"
      }
    },
    {
      "cell_type": "markdown",
      "source": [
        "An error is a mistake in the code that prevents the program from running"
      ],
      "metadata": {
        "id": "8TxQMSwOhnjl"
      }
    },
    {
      "cell_type": "markdown",
      "source": [
        "**synatx Error**"
      ],
      "metadata": {
        "id": "QsqYNcqUhx6b"
      }
    },
    {
      "cell_type": "code",
      "source": [
        "print(\"hello\""
      ],
      "metadata": {
        "colab": {
          "base_uri": "https://localhost:8080/",
          "height": 108
        },
        "id": "HIrFmIarhzpr",
        "outputId": "cfb4890c-bc5b-47c7-8323-a69b1bc71772"
      },
      "execution_count": null,
      "outputs": [
        {
          "output_type": "error",
          "ename": "SyntaxError",
          "evalue": "incomplete input (ipython-input-4227803888.py, line 1)",
          "traceback": [
            "\u001b[0;36m  File \u001b[0;32m\"/tmp/ipython-input-4227803888.py\"\u001b[0;36m, line \u001b[0;32m1\u001b[0m\n\u001b[0;31m    print(\"hello\"\u001b[0m\n\u001b[0m                 ^\u001b[0m\n\u001b[0;31mSyntaxError\u001b[0m\u001b[0;31m:\u001b[0m incomplete input\n"
          ]
        }
      ]
    },
    {
      "cell_type": "markdown",
      "source": [
        "**Logical Error**"
      ],
      "metadata": {
        "id": "0yIr8hsuiEby"
      }
    },
    {
      "cell_type": "markdown",
      "source": [
        "error is because of logic of program"
      ],
      "metadata": {
        "id": "v_K43CNhiGXN"
      }
    },
    {
      "cell_type": "code",
      "source": [
        "open(\"missing.txt\",'r')"
      ],
      "metadata": {
        "colab": {
          "base_uri": "https://localhost:8080/",
          "height": 143
        },
        "id": "6lrOwBDdiT6O",
        "outputId": "bb9ae8e4-ac00-483b-c849-0da7daa2680c"
      },
      "execution_count": null,
      "outputs": [
        {
          "output_type": "error",
          "ename": "FileNotFoundError",
          "evalue": "[Errno 2] No such file or directory: 'missing.txt'",
          "traceback": [
            "\u001b[0;31m---------------------------------------------------------------------------\u001b[0m",
            "\u001b[0;31mFileNotFoundError\u001b[0m                         Traceback (most recent call last)",
            "\u001b[0;32m/tmp/ipython-input-2374872339.py\u001b[0m in \u001b[0;36m<cell line: 0>\u001b[0;34m()\u001b[0m\n\u001b[0;32m----> 1\u001b[0;31m \u001b[0mopen\u001b[0m\u001b[0;34m(\u001b[0m\u001b[0;34m\"missing.txt\"\u001b[0m\u001b[0;34m,\u001b[0m\u001b[0;34m'r'\u001b[0m\u001b[0;34m)\u001b[0m\u001b[0;34m\u001b[0m\u001b[0;34m\u001b[0m\u001b[0m\n\u001b[0m",
            "\u001b[0;31mFileNotFoundError\u001b[0m: [Errno 2] No such file or directory: 'missing.txt'"
          ]
        }
      ]
    },
    {
      "cell_type": "markdown",
      "source": [
        "**Try and Except Block to handling Exceptions**"
      ],
      "metadata": {
        "id": "7wQ9VhVViZha"
      }
    },
    {
      "cell_type": "markdown",
      "source": [
        "- try:\n",
        "   statements you want to excecute it\n",
        "- except:\n",
        "  execute when exception occured in try"
      ],
      "metadata": {
        "id": "osCFy9PnifpT"
      }
    },
    {
      "cell_type": "code",
      "source": [
        "10/0\n",
        "print(\"hello\")"
      ],
      "metadata": {
        "colab": {
          "base_uri": "https://localhost:8080/",
          "height": 160
        },
        "id": "YBFwvg9SizNt",
        "outputId": "950e5bd3-1b66-4873-d65e-99ff8061a21b"
      },
      "execution_count": null,
      "outputs": [
        {
          "output_type": "error",
          "ename": "ZeroDivisionError",
          "evalue": "division by zero",
          "traceback": [
            "\u001b[0;31m---------------------------------------------------------------------------\u001b[0m",
            "\u001b[0;31mZeroDivisionError\u001b[0m                         Traceback (most recent call last)",
            "\u001b[0;32m/tmp/ipython-input-1061815512.py\u001b[0m in \u001b[0;36m<cell line: 0>\u001b[0;34m()\u001b[0m\n\u001b[0;32m----> 1\u001b[0;31m \u001b[0;36m10\u001b[0m\u001b[0;34m/\u001b[0m\u001b[0;36m0\u001b[0m\u001b[0;34m\u001b[0m\u001b[0;34m\u001b[0m\u001b[0m\n\u001b[0m\u001b[1;32m      2\u001b[0m \u001b[0mprint\u001b[0m\u001b[0;34m(\u001b[0m\u001b[0;34m\"hello\"\u001b[0m\u001b[0;34m)\u001b[0m\u001b[0;34m\u001b[0m\u001b[0;34m\u001b[0m\u001b[0m\n",
            "\u001b[0;31mZeroDivisionError\u001b[0m: division by zero"
          ]
        }
      ]
    },
    {
      "cell_type": "code",
      "source": [
        "try:\n",
        "  x=10/0\n",
        "except:\n",
        "  print(\"somethging went wroing during disbison\")\n",
        "\n",
        "print(\"helleo\")"
      ],
      "metadata": {
        "colab": {
          "base_uri": "https://localhost:8080/"
        },
        "id": "b0_EzgPviec8",
        "outputId": "6f5c89ff-96ab-4a3e-e260-278c9699a82d"
      },
      "execution_count": null,
      "outputs": [
        {
          "output_type": "stream",
          "name": "stdout",
          "text": [
            "somethging went wroing during disbison\n",
            "helleo\n"
          ]
        }
      ]
    },
    {
      "cell_type": "code",
      "source": [
        "f = open(\"dummy.txt\")\n",
        "print(\"*******\")"
      ],
      "metadata": {
        "colab": {
          "base_uri": "https://localhost:8080/",
          "height": 160
        },
        "id": "DH-jeVDijhHe",
        "outputId": "e9095484-2ed2-406e-9062-c001135af218"
      },
      "execution_count": null,
      "outputs": [
        {
          "output_type": "error",
          "ename": "FileNotFoundError",
          "evalue": "[Errno 2] No such file or directory: 'dummy.txt'",
          "traceback": [
            "\u001b[0;31m---------------------------------------------------------------------------\u001b[0m",
            "\u001b[0;31mFileNotFoundError\u001b[0m                         Traceback (most recent call last)",
            "\u001b[0;32m/tmp/ipython-input-3962213576.py\u001b[0m in \u001b[0;36m<cell line: 0>\u001b[0;34m()\u001b[0m\n\u001b[0;32m----> 1\u001b[0;31m \u001b[0mf\u001b[0m \u001b[0;34m=\u001b[0m \u001b[0mopen\u001b[0m\u001b[0;34m(\u001b[0m\u001b[0;34m\"dummy.txt\"\u001b[0m\u001b[0;34m)\u001b[0m\u001b[0;34m\u001b[0m\u001b[0;34m\u001b[0m\u001b[0m\n\u001b[0m\u001b[1;32m      2\u001b[0m \u001b[0mprint\u001b[0m\u001b[0;34m(\u001b[0m\u001b[0;34m\"*******\"\u001b[0m\u001b[0;34m)\u001b[0m\u001b[0;34m\u001b[0m\u001b[0;34m\u001b[0m\u001b[0m\n",
            "\u001b[0;31mFileNotFoundError\u001b[0m: [Errno 2] No such file or directory: 'dummy.txt'"
          ]
        }
      ]
    },
    {
      "cell_type": "code",
      "source": [
        "try:\n",
        "  f = open(\"dummy.txt\")\n",
        "except:\n",
        "  print(\"count not open the file\")\n",
        "\n",
        "print(\"*******\")"
      ],
      "metadata": {
        "colab": {
          "base_uri": "https://localhost:8080/"
        },
        "id": "VneQAdEDjSzw",
        "outputId": "ff2d6f8b-2d17-451a-dc05-013d4a35c4d7"
      },
      "execution_count": null,
      "outputs": [
        {
          "output_type": "stream",
          "name": "stdout",
          "text": [
            "count not open the file\n",
            "*******\n"
          ]
        }
      ]
    },
    {
      "cell_type": "code",
      "source": [
        "try:\n",
        "  val = int(\"abc\")\n",
        "except:\n",
        "  print(\"conversion failed\")"
      ],
      "metadata": {
        "colab": {
          "base_uri": "https://localhost:8080/"
        },
        "id": "DbHRB5T5jp0K",
        "outputId": "a8051f01-fab6-4d07-f30c-67ae3e4ed3b9"
      },
      "execution_count": null,
      "outputs": [
        {
          "output_type": "stream",
          "name": "stdout",
          "text": [
            "conversion failed\n"
          ]
        }
      ]
    },
    {
      "cell_type": "code",
      "source": [
        "try:\n",
        "  x=4/2\n",
        "  print(x)\n",
        "except:\n",
        "  print(\"some issue\")"
      ],
      "metadata": {
        "colab": {
          "base_uri": "https://localhost:8080/"
        },
        "id": "5wVqD6GCjwIB",
        "outputId": "59ef58ae-483f-4258-c634-2df81af1fc5d"
      },
      "execution_count": null,
      "outputs": [
        {
          "output_type": "stream",
          "name": "stdout",
          "text": [
            "2.0\n"
          ]
        }
      ]
    },
    {
      "cell_type": "markdown",
      "source": [
        "**finally block**"
      ],
      "metadata": {
        "id": "JHbp2Is_j6WZ"
      }
    },
    {
      "cell_type": "code",
      "source": [
        "try:\n",
        "  x=4/2\n",
        "  print(x)\n",
        "except:\n",
        "  print(\"some issue\")\n",
        "finally:\n",
        "  print(\"always i will exceute\")"
      ],
      "metadata": {
        "colab": {
          "base_uri": "https://localhost:8080/"
        },
        "id": "600Ba3oyj9eZ",
        "outputId": "37e8267c-09a0-4993-a7ce-f2320b9d5b8c"
      },
      "execution_count": null,
      "outputs": [
        {
          "output_type": "stream",
          "name": "stdout",
          "text": [
            "2.0\n",
            "always i will exceute\n"
          ]
        }
      ]
    },
    {
      "cell_type": "code",
      "source": [
        "try:\n",
        "  x=4/0\n",
        "  print(x)\n",
        "except:\n",
        "  print(\"some issue\")\n",
        "finally:\n",
        "  print(\"always i will exceute\")"
      ],
      "metadata": {
        "colab": {
          "base_uri": "https://localhost:8080/"
        },
        "id": "qBc83bF5kI4C",
        "outputId": "e5614d20-c7f3-4ab3-cf34-48dce08c4cd6"
      },
      "execution_count": null,
      "outputs": [
        {
          "output_type": "stream",
          "name": "stdout",
          "text": [
            "some issue\n",
            "always i will exceute\n"
          ]
        }
      ]
    },
    {
      "cell_type": "code",
      "source": [
        "try:\n",
        "  print(\"opening file\")\n",
        "  f=open(\"example.txt\",\"w\")\n",
        "  f.write(\"hello python\")\n",
        "  result=10/0\n",
        "except:\n",
        "  print(\"error occurred\")\n",
        "finally:\n",
        "  f.close()\n",
        "  print(\"file closed succesfully\")\n"
      ],
      "metadata": {
        "colab": {
          "base_uri": "https://localhost:8080/"
        },
        "id": "tvDgCSqYkPqT",
        "outputId": "7120d433-0e7f-4496-bf5f-6c21ee0ddf2c"
      },
      "execution_count": null,
      "outputs": [
        {
          "output_type": "stream",
          "name": "stdout",
          "text": [
            "opening file\n",
            "error occurred\n",
            "file closed succesfully\n"
          ]
        }
      ]
    },
    {
      "cell_type": "markdown",
      "source": [
        "**else block**"
      ],
      "metadata": {
        "id": "1D_DW02tk7qW"
      }
    },
    {
      "cell_type": "markdown",
      "source": [
        "else block runs if no exception occurs"
      ],
      "metadata": {
        "id": "L2E7dINglD6i"
      }
    },
    {
      "cell_type": "code",
      "source": [
        "try:\n",
        "  a=10\n",
        "  b=2\n",
        "  result= a/b\n",
        "  print(result)\n",
        "except:\n",
        "  print(\"error occured\")\n",
        "else:\n",
        "  print(\"iam else statemnt\")"
      ],
      "metadata": {
        "colab": {
          "base_uri": "https://localhost:8080/"
        },
        "id": "uHRt6GZtlQ70",
        "outputId": "2480888b-74e5-4763-9a51-4d8160c4d93b"
      },
      "execution_count": null,
      "outputs": [
        {
          "output_type": "stream",
          "name": "stdout",
          "text": [
            "5.0\n",
            "iam else statemnt\n"
          ]
        }
      ]
    },
    {
      "cell_type": "code",
      "source": [
        "try:\n",
        "  a=10\n",
        "  b=0\n",
        "  result= a/b\n",
        "  print(result)\n",
        "except:\n",
        "  print(\"error occured\")\n",
        "else:\n",
        "  print(\"iam else statemnt\")"
      ],
      "metadata": {
        "colab": {
          "base_uri": "https://localhost:8080/"
        },
        "id": "cjPNDH8llkxV",
        "outputId": "32463133-51ed-45dc-aed9-5c3fe77e8930"
      },
      "execution_count": null,
      "outputs": [
        {
          "output_type": "stream",
          "name": "stdout",
          "text": [
            "error occured\n"
          ]
        }
      ]
    },
    {
      "cell_type": "code",
      "source": [
        "try:\n",
        "  a=10\n",
        "  b=0\n",
        "  result= a/b\n",
        "  print(result)\n",
        "except:\n",
        "  print(\"error occured\")\n",
        "else:\n",
        "  print(\"iam else statemnt\")\n",
        "finally:\n",
        "  print(\"iam finally block\")"
      ],
      "metadata": {
        "colab": {
          "base_uri": "https://localhost:8080/"
        },
        "id": "Wgfp4lNPlsJK",
        "outputId": "2d4fcedd-0891-490f-f902-25b5e613c6fb"
      },
      "execution_count": null,
      "outputs": [
        {
          "output_type": "stream",
          "name": "stdout",
          "text": [
            "error occured\n",
            "iam finally block\n"
          ]
        }
      ]
    },
    {
      "cell_type": "code",
      "source": [
        "class MycustomError(Exception):\n",
        "  pass\n",
        "\n",
        "\n",
        "try:\n",
        "  name = int(input(\"Enter your name\"))\n",
        "  if name == \"\":\n",
        "    raise MycustomError(\"name cannot be empty\")\n",
        "  print(\"welcome\",name)\n",
        "except MycustomError as e:\n",
        "  print(e)\n",
        "except ValueError:\n",
        "  print(\"this is not possoble\")\n",
        "\n",
        "\n",
        "print(2+2)\n"
      ],
      "metadata": {
        "colab": {
          "base_uri": "https://localhost:8080/"
        },
        "id": "XS8knMBVnKG1",
        "outputId": "7ee23933-fdb6-4ef6-b6d9-9e6fab726e02"
      },
      "execution_count": null,
      "outputs": [
        {
          "output_type": "stream",
          "name": "stdout",
          "text": [
            "Enter your nameabc\n",
            "this is not possoble\n",
            "4\n"
          ]
        }
      ]
    },
    {
      "cell_type": "code",
      "source": [
        "import sys\n",
        "\n",
        "# Your custom exception and error handling code\n",
        "def error_message_detail(error, error_detail: sys):\n",
        "    print(error_detail.exc_info())\n",
        "    _, _, exc_tb = error_detail.exc_info()\n",
        "    print(exc_tb)\n",
        "    file_name = exc_tb.tb_frame.f_code.co_filename\n",
        "    print(file_name)\n",
        "    error_message = \"Error occurred in python script name [{0}] line number [{1}] error message [{2}]\".format(\n",
        "        file_name, exc_tb.tb_lineno, str(error)\n",
        "    )\n",
        "    return error_message\n",
        "\n",
        "class CustomException(Exception):\n",
        "    def __init__(self, error_message, error_detail: sys):\n",
        "        super().__init__(error_message)\n",
        "        self.error_message = error_message_detail(\n",
        "            error_message, error_detail=error_detail\n",
        "        )\n",
        "\n",
        "    def __str__(self):\n",
        "        return self.error_message\n",
        "\n",
        "# Example usage\n",
        "try:\n",
        "    # Some operation that will cause an error, e.g., dividing by zero\n",
        "    a = 1 / 0\n",
        "except Exception as e:\n",
        "\n",
        "    raise CustomException(str(e), sys)"
      ],
      "metadata": {
        "colab": {
          "base_uri": "https://localhost:8080/",
          "height": 425
        },
        "id": "c5wDIIEpqW2F",
        "outputId": "02481621-0b24-447e-8c54-309cbadc8ab2"
      },
      "execution_count": null,
      "outputs": [
        {
          "output_type": "stream",
          "name": "stdout",
          "text": [
            "(<class 'ZeroDivisionError'>, ZeroDivisionError('division by zero'), <traceback object at 0x7ce44ef27340>)\n",
            "<traceback object at 0x7ce44ef27340>\n",
            "/tmp/ipython-input-3137852588.py\n"
          ]
        },
        {
          "output_type": "error",
          "ename": "CustomException",
          "evalue": "Error occurred in python script name [/tmp/ipython-input-3137852588.py] line number [28] error message [division by zero]",
          "traceback": [
            "\u001b[0;31m---------------------------------------------------------------------------\u001b[0m",
            "\u001b[0;31mZeroDivisionError\u001b[0m                         Traceback (most recent call last)",
            "\u001b[0;32m/tmp/ipython-input-3137852588.py\u001b[0m in \u001b[0;36m<cell line: 0>\u001b[0;34m()\u001b[0m\n\u001b[1;32m     27\u001b[0m     \u001b[0;31m# Some operation that will cause an error, e.g., dividing by zero\u001b[0m\u001b[0;34m\u001b[0m\u001b[0;34m\u001b[0m\u001b[0m\n\u001b[0;32m---> 28\u001b[0;31m     \u001b[0ma\u001b[0m \u001b[0;34m=\u001b[0m \u001b[0;36m1\u001b[0m \u001b[0;34m/\u001b[0m \u001b[0;36m0\u001b[0m\u001b[0;34m\u001b[0m\u001b[0;34m\u001b[0m\u001b[0m\n\u001b[0m\u001b[1;32m     29\u001b[0m \u001b[0;32mexcept\u001b[0m \u001b[0mException\u001b[0m \u001b[0;32mas\u001b[0m \u001b[0me\u001b[0m\u001b[0;34m:\u001b[0m\u001b[0;34m\u001b[0m\u001b[0;34m\u001b[0m\u001b[0m\n",
            "\u001b[0;31mZeroDivisionError\u001b[0m: division by zero",
            "\nDuring handling of the above exception, another exception occurred:\n",
            "\u001b[0;31mCustomException\u001b[0m                           Traceback (most recent call last)",
            "\u001b[0;32m/tmp/ipython-input-3137852588.py\u001b[0m in \u001b[0;36m<cell line: 0>\u001b[0;34m()\u001b[0m\n\u001b[1;32m     29\u001b[0m \u001b[0;32mexcept\u001b[0m \u001b[0mException\u001b[0m \u001b[0;32mas\u001b[0m \u001b[0me\u001b[0m\u001b[0;34m:\u001b[0m\u001b[0;34m\u001b[0m\u001b[0;34m\u001b[0m\u001b[0m\n\u001b[1;32m     30\u001b[0m \u001b[0;34m\u001b[0m\u001b[0m\n\u001b[0;32m---> 31\u001b[0;31m     \u001b[0;32mraise\u001b[0m \u001b[0mCustomException\u001b[0m\u001b[0;34m(\u001b[0m\u001b[0mstr\u001b[0m\u001b[0;34m(\u001b[0m\u001b[0me\u001b[0m\u001b[0;34m)\u001b[0m\u001b[0;34m,\u001b[0m \u001b[0msys\u001b[0m\u001b[0;34m)\u001b[0m\u001b[0;34m\u001b[0m\u001b[0;34m\u001b[0m\u001b[0m\n\u001b[0m",
            "\u001b[0;31mCustomException\u001b[0m: Error occurred in python script name [/tmp/ipython-input-3137852588.py] line number [28] error message [division by zero]"
          ]
        }
      ]
    },
    {
      "cell_type": "code",
      "source": [
        "#custom exception class\n",
        "\n",
        "class Validate_salary(Exception):   #exception is parent class where all python exceptions are available\n",
        "  def __init__(self,msg):\n",
        "    self.msg = msg\n",
        "\n",
        "\n",
        "def validate_salary(salary):\n",
        "  if salary <= 0:\n",
        "    raise Validate_salary(\"negative salary is not possible\")     #replaced print with raise since its error\n",
        "  elif salary >= 300000:\n",
        "    raise Validate_salary(\"Salary is unexpected\")                #replaced print with raise since its error\n",
        "  else:\n",
        "    print(\"salary is valid\")\n",
        "\n",
        "\n",
        "try:\n",
        "  income = int(input(\"Enter your salary\"))\n",
        "  validate_salary(income)\n",
        "except Validate_salary as e:\n",
        "  print(e)\n",
        "except ValueError:\n",
        "  print(\"value error occured\")\n",
        "\n",
        "\n",
        "print(2+2)"
      ],
      "metadata": {
        "colab": {
          "base_uri": "https://localhost:8080/"
        },
        "id": "XaayXckorh-m",
        "outputId": "1d4b64b4-a305-4c89-af00-f0c31da8a3ce"
      },
      "execution_count": null,
      "outputs": [
        {
          "output_type": "stream",
          "name": "stdout",
          "text": [
            "Enter your salaryabc\n",
            "value error occured\n",
            "4\n"
          ]
        }
      ]
    }
  ]
}